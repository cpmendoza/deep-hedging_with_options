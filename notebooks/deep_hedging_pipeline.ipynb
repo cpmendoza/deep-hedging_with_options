{
 "cells": [
  {
   "cell_type": "markdown",
   "metadata": {},
   "source": [
    "# Deep Hedging pipeline"
   ]
  },
  {
   "cell_type": "markdown",
   "metadata": {},
   "source": [
    "## Evironment setup"
   ]
  },
  {
   "cell_type": "markdown",
   "metadata": {},
   "source": [
    "Setup the general environment"
   ]
  },
  {
   "cell_type": "code",
   "execution_count": 1,
   "metadata": {},
   "outputs": [],
   "source": [
    "import os, sys\n",
    "from pathlib import Path\n",
    "\n",
    "main_folder = str(Path.cwd().parent)\n",
    "sys.path.append(main_folder)\n",
    "\n",
    "import warnings\n",
    "warnings.filterwarnings(\"ignore\")"
   ]
  },
  {
   "cell_type": "markdown",
   "metadata": {},
   "source": [
    "## Simulation of NIG random values"
   ]
  },
  {
   "cell_type": "markdown",
   "metadata": {},
   "source": [
    "Simulation of standard NIG random variables for the JIVR model"
   ]
  },
  {
   "cell_type": "code",
   "execution_count": 2,
   "metadata": {},
   "outputs": [
    {
     "name": "stdout",
     "output_type": "stream",
     "text": [
      "--Generating grid for NIG interpolation--\n",
      "--NIG simulation starts--\n",
      "--Progress of NIG simulation: 100.00%\n",
      "--Simulation completed - NIG values stored in ../data/interim/--\n"
     ]
    }
   ],
   "source": [
    "from src.utils import *\n",
    "from src.features.nig_simulation import *\n",
    "\n",
    "config_file = load_config(os.path.join(main_folder,'cfgs','config_simulation.yml'))\n",
    "nig_simulation(config_file)"
   ]
  },
  {
   "cell_type": "markdown",
   "metadata": {},
   "source": [
    "## JIVR Simulation"
   ]
  },
  {
   "cell_type": "markdown",
   "metadata": {},
   "source": [
    "Simulation of JIVR features\n",
    "\n",
    "**Remark**: This segment of the pipeline assumes that the NIG random variables have already been simulated."
   ]
  },
  {
   "cell_type": "code",
   "execution_count": 3,
   "metadata": {},
   "outputs": [
    {
     "name": "stdout",
     "output_type": "stream",
     "text": [
      "-- JIVR simulation starts --\n",
      "--Progress of JIVR simulation: 100.00%\n",
      "--Simulation of JIVR features completed--\n",
      "-- Simulation of stock price --\n",
      "-- Simulation completed - JIVR features stored in ../data/processed/--\n"
     ]
    }
   ],
   "source": [
    "from src.utils import *\n",
    "from src.features.jivr_simulation import *\n",
    "\n",
    "config_file = load_config(os.path.join(main_folder,'cfgs','config_simulation.yml'))\n",
    "jivr_model = implied_volatily_surface_vec(config_file)\n",
    "jivr_model.jivr_simulation()"
   ]
  },
  {
   "cell_type": "markdown",
   "metadata": {},
   "source": [
    "## Deep Hedging "
   ]
  },
  {
   "cell_type": "markdown",
   "metadata": {},
   "source": [
    "Deep RL agent training and hedging strategy generation\n",
    "\n",
    "**Remark 1**: This segment of the pipeline assumes that the JIVR features have already been simulated.\n",
    "\n",
    "**Remark 2**: This training example illustrates the performance of the RL agent optimized using the MSE loss, relying solely on the underlying asset as a hedging instrument in the presence of transaction costs with $\\kappa_{1}=0.05\\%$. The corresponding results are reported in Table 4 of the paper.\n"
   ]
  },
  {
   "cell_type": "code",
   "execution_count": 4,
   "metadata": {},
   "outputs": [
    {
     "name": "stdout",
     "output_type": "stream",
     "text": [
      "-------- Portfolio simulation --------\n",
      "-------- Simulation completed --------\n",
      "-------------------------------------------------------------\n",
      "Deep_agent_RNNFNN_noauto_dropout_50_MSE_TC_0.05_2.0_learned_reebalance_integral_HO_C63ATMpos1P63ATMpos1_softcons_1\n",
      "-------------------------------------------------------------\n",
      "-----------------------Training start------------------------\n",
      "Epoch 1, Time elapsed: 0:03:13.993735  ---- Model saved\n",
      "  Train - MSE: 23.810, Auto: 0.000, Soft_cons: 0.099\n",
      "  Valid - MSE: 15.721, Auto: 0.000, Soft_cons: 0.069\n",
      "  Condition 1: 0.0000000000\n",
      "Epoch 2, Time elapsed: 0:06:45.861728  ---- Model saved\n",
      "  Train - MSE: 6.443, Auto: 0.000, Soft_cons: 0.019\n",
      "  Valid - MSE: 3.502, Auto: 0.000, Soft_cons: 0.005\n",
      "  Condition 1: 0.0000000000\n",
      "Epoch 3, Time elapsed: 0:09:33.496113  ---- Model saved\n",
      "  Train - MSE: 3.040, Auto: 0.000, Soft_cons: 0.005\n",
      "  Valid - MSE: 2.872, Auto: 0.000, Soft_cons: 0.005\n",
      "  Condition 1: 0.0000000000\n",
      "Epoch 4, Time elapsed: 0:12:21.075925  ---- Model saved\n",
      "  Train - MSE: 2.670, Auto: 0.000, Soft_cons: 0.004\n",
      "  Valid - MSE: 2.612, Auto: 0.000, Soft_cons: 0.005\n",
      "  Condition 1: 0.0000000000\n",
      "Epoch 5, Time elapsed: 0:15:07.235564  ---- Model saved\n",
      "  Train - MSE: 2.494, Auto: 0.000, Soft_cons: 0.004\n",
      "  Valid - MSE: 2.510, Auto: 0.000, Soft_cons: 0.003\n",
      "  Condition 1: 0.0000000000\n",
      "Epoch 6, Time elapsed: 0:17:52.284433  ---- Model saved\n",
      "  Train - MSE: 2.389, Auto: 0.000, Soft_cons: 0.004\n",
      "  Valid - MSE: 2.408, Auto: 0.000, Soft_cons: 0.004\n",
      "  Condition 1: 0.0000000000\n",
      "Epoch 7, Time elapsed: 0:20:35.568663  ---- Model saved\n",
      "  Train - MSE: 2.334, Auto: 0.000, Soft_cons: 0.004\n",
      "  Valid - MSE: 2.360, Auto: 0.000, Soft_cons: 0.004\n",
      "  Condition 1: 0.0000000000\n",
      "Epoch 8, Time elapsed: 0:23:20.391767  ---- Model saved\n",
      "  Train - MSE: 2.278, Auto: 0.000, Soft_cons: 0.004\n",
      "  Valid - MSE: 2.296, Auto: 0.000, Soft_cons: 0.004\n",
      "  Condition 1: 0.0000000000\n",
      "Epoch 9, Time elapsed: 0:26:03.178216  ---- Model saved\n",
      "  Train - MSE: 2.246, Auto: 0.000, Soft_cons: 0.004\n",
      "  Valid - MSE: 2.275, Auto: 0.000, Soft_cons: 0.004\n",
      "  Condition 1: 0.0000000000\n",
      "Epoch 10, Time elapsed: 0:28:46.793772  ---- Model saved\n",
      "  Train - MSE: 2.228, Auto: 0.000, Soft_cons: 0.004\n",
      "  Valid - MSE: 2.249, Auto: 0.000, Soft_cons: 0.004\n",
      "  Condition 1: 0.0000000000\n",
      "Epoch 11, Time elapsed: 0:31:27.844109  ---- Model saved\n",
      "  Train - MSE: 2.205, Auto: 0.000, Soft_cons: 0.004\n",
      "  Valid - MSE: 2.238, Auto: 0.000, Soft_cons: 0.004\n",
      "  Condition 1: 0.0000000000\n",
      "Epoch 12, Time elapsed: 0:34:07.295773  ---- Model saved\n",
      "  Train - MSE: 2.199, Auto: 0.000, Soft_cons: 0.004\n",
      "  Valid - MSE: 2.226, Auto: 0.000, Soft_cons: 0.003\n",
      "  Condition 1: 0.0000000000\n",
      "Epoch 13, Time elapsed: 0:36:44.471941\n",
      "  Train - MSE: 2.178, Auto: 0.000, Soft_cons: 0.004\n",
      "  Valid - MSE: 2.227, Auto: 0.000, Soft_cons: 0.004\n",
      "  Condition 1: 0.0000000000\n",
      "Epoch 14, Time elapsed: 0:39:23.257442  ---- Model saved\n",
      "  Train - MSE: 2.176, Auto: 0.000, Soft_cons: 0.004\n",
      "  Valid - MSE: 2.210, Auto: 0.000, Soft_cons: 0.004\n",
      "  Condition 1: 0.0000000000\n",
      "Epoch 15, Time elapsed: 0:41:58.962184\n",
      "  Train - MSE: 2.166, Auto: 0.000, Soft_cons: 0.004\n",
      "  Valid - MSE: 2.217, Auto: 0.000, Soft_cons: 0.003\n",
      "  Condition 1: 0.0000000000\n",
      "Epoch 16, Time elapsed: 0:44:39.475638  ---- Model saved\n",
      "  Train - MSE: 2.162, Auto: 0.000, Soft_cons: 0.004\n",
      "  Valid - MSE: 2.190, Auto: 0.000, Soft_cons: 0.004\n",
      "  Condition 1: 0.0002281335\n",
      "Epoch 17, Time elapsed: 0:47:15.843851\n",
      "  Train - MSE: 2.153, Auto: 0.000, Soft_cons: 0.004\n",
      "  Valid - MSE: 2.192, Auto: 0.000, Soft_cons: 0.004\n",
      "  Condition 1: 0.0000679500\n",
      "Epoch 18, Time elapsed: 0:49:53.562405  ---- Model saved\n",
      "  Train - MSE: 2.153, Auto: 0.000, Soft_cons: 0.004\n",
      "  Valid - MSE: 2.178, Auto: 0.000, Soft_cons: 0.004\n",
      "  Condition 1: 0.0000000000\n",
      "Epoch 19, Time elapsed: 0:52:28.539154\n",
      "  Train - MSE: 2.142, Auto: 0.000, Soft_cons: 0.004\n",
      "  Valid - MSE: 2.190, Auto: 0.000, Soft_cons: 0.004\n",
      "  Condition 1: 0.0002173611\n",
      "Epoch 20, Time elapsed: 0:55:06.840324\n",
      "  Train - MSE: 2.140, Auto: 0.000, Soft_cons: 0.004\n",
      "  Valid - MSE: 2.352, Auto: 0.000, Soft_cons: 0.003\n",
      "  Condition 1: 0.0000000000\n",
      "Epoch 21, Time elapsed: 0:57:42.351030\n",
      "  Train - MSE: 2.134, Auto: 0.000, Soft_cons: 0.004\n",
      "  Valid - MSE: 2.226, Auto: 0.000, Soft_cons: 0.003\n",
      "  Condition 1: 0.0000000000\n",
      "Epoch 22, Time elapsed: 1:00:19.874095  ---- Model saved\n",
      "  Train - MSE: 2.133, Auto: 0.000, Soft_cons: 0.004\n",
      "  Valid - MSE: 2.170, Auto: 0.000, Soft_cons: 0.004\n",
      "  Condition 1: 0.0000000000\n",
      "Epoch 23, Time elapsed: 1:02:55.383138\n",
      "  Train - MSE: 2.126, Auto: 0.000, Soft_cons: 0.004\n",
      "  Valid - MSE: 2.172, Auto: 0.000, Soft_cons: 0.004\n",
      "  Condition 1: 0.0000000000\n",
      "Epoch 24, Time elapsed: 1:05:31.025155  ---- Model saved\n",
      "  Train - MSE: 2.126, Auto: 0.000, Soft_cons: 0.004\n",
      "  Valid - MSE: 2.168, Auto: 0.000, Soft_cons: 0.004\n",
      "  Condition 1: 0.0000000000\n",
      "Epoch 25, Time elapsed: 1:08:08.642986  ---- Model saved\n",
      "  Train - MSE: 2.122, Auto: 0.000, Soft_cons: 0.004\n",
      "  Valid - MSE: 2.162, Auto: 0.000, Soft_cons: 0.004\n",
      "  Condition 1: 0.0000000000\n",
      "Epoch 26, Time elapsed: 1:10:46.452778  ---- Model saved\n",
      "  Train - MSE: 2.119, Auto: 0.000, Soft_cons: 0.004\n",
      "  Valid - MSE: 2.159, Auto: 0.000, Soft_cons: 0.004\n",
      "  Condition 1: 0.0000000000\n",
      "Epoch 27, Time elapsed: 1:13:20.657658\n",
      "  Train - MSE: 2.116, Auto: 0.000, Soft_cons: 0.004\n",
      "  Valid - MSE: 2.171, Auto: 0.000, Soft_cons: 0.004\n",
      "  Condition 1: 0.0000028008\n",
      "Epoch 28, Time elapsed: 1:15:56.506211\n",
      "  Train - MSE: 2.113, Auto: 0.000, Soft_cons: 0.004\n",
      "  Valid - MSE: 2.175, Auto: 0.000, Soft_cons: 0.003\n",
      "  Condition 1: 0.0000000000\n",
      "Epoch 29, Time elapsed: 1:18:34.052982\n",
      "  Train - MSE: 2.112, Auto: 0.000, Soft_cons: 0.004\n",
      "  Valid - MSE: 2.163, Auto: 0.000, Soft_cons: 0.004\n",
      "  Condition 1: 0.0000014686\n",
      "Epoch 30, Time elapsed: 1:21:19.508107\n",
      "  Train - MSE: 2.115, Auto: 0.000, Soft_cons: 0.004\n",
      "  Valid - MSE: 2.181, Auto: 0.000, Soft_cons: 0.003\n",
      "  Condition 1: 0.0000000000\n",
      "Epoch 31, Time elapsed: 1:24:00.359361  ---- Model saved\n",
      "  Train - MSE: 2.101, Auto: 0.000, Soft_cons: 0.004\n",
      "  Valid - MSE: 2.150, Auto: 0.000, Soft_cons: 0.004\n",
      "  Condition 1: 0.0000000000\n",
      "Epoch 32, Time elapsed: 1:26:42.937025\n",
      "  Train - MSE: 2.111, Auto: 0.000, Soft_cons: 0.004\n",
      "  Valid - MSE: 2.152, Auto: 0.000, Soft_cons: 0.004\n",
      "  Condition 1: 0.0000000000\n",
      "Epoch 33, Time elapsed: 1:29:27.336075  ---- Model saved\n",
      "  Train - MSE: 2.107, Auto: 0.000, Soft_cons: 0.004\n",
      "  Valid - MSE: 2.146, Auto: 0.000, Soft_cons: 0.004\n",
      "  Condition 1: 0.0000000000\n",
      "Epoch 34, Time elapsed: 1:32:10.883893\n",
      "  Train - MSE: 2.100, Auto: 0.000, Soft_cons: 0.004\n",
      "  Valid - MSE: 2.153, Auto: 0.000, Soft_cons: 0.004\n",
      "  Condition 1: 0.0000258182\n",
      "Epoch 35, Time elapsed: 1:34:56.634797\n",
      "  Train - MSE: 2.095, Auto: 0.000, Soft_cons: 0.004\n",
      "  Valid - MSE: 2.216, Auto: 0.000, Soft_cons: 0.004\n",
      "  Condition 1: 0.0001983820\n",
      "Epoch 36, Time elapsed: 1:37:42.568985  ---- Model saved\n",
      "  Train - MSE: 2.099, Auto: 0.000, Soft_cons: 0.004\n",
      "  Valid - MSE: 2.139, Auto: 0.000, Soft_cons: 0.004\n",
      "  Condition 1: 0.0000012443\n",
      "Epoch 37, Time elapsed: 1:40:25.588649\n",
      "  Train - MSE: 2.096, Auto: 0.000, Soft_cons: 0.004\n",
      "  Valid - MSE: 2.147, Auto: 0.000, Soft_cons: 0.004\n",
      "  Condition 1: 0.0000000000\n",
      "Epoch 38, Time elapsed: 1:43:08.548718\n",
      "  Train - MSE: 2.091, Auto: 0.000, Soft_cons: 0.004\n",
      "  Valid - MSE: 2.141, Auto: 0.000, Soft_cons: 0.004\n",
      "  Condition 1: 0.0000000000\n",
      "Epoch 39, Time elapsed: 1:45:52.141574\n",
      "  Train - MSE: 2.092, Auto: 0.000, Soft_cons: 0.004\n",
      "  Valid - MSE: 2.164, Auto: 0.000, Soft_cons: 0.003\n",
      "  Condition 1: 0.0000000000\n",
      "Epoch 40, Time elapsed: 1:48:33.616182\n",
      "  Train - MSE: 2.081, Auto: 0.000, Soft_cons: 0.004\n",
      "  Valid - MSE: 2.240, Auto: 0.000, Soft_cons: 0.003\n",
      "  Condition 1: 0.0000000000\n",
      "Epoch 41, Time elapsed: 1:51:16.364173\n",
      "  Train - MSE: 2.096, Auto: 0.000, Soft_cons: 0.004\n",
      "  Valid - MSE: 2.141, Auto: 0.000, Soft_cons: 0.004\n",
      "  Condition 1: 0.0001531093\n",
      "Epoch 42, Time elapsed: 1:53:59.074140  ---- Model saved\n",
      "  Train - MSE: 2.084, Auto: 0.000, Soft_cons: 0.004\n",
      "  Valid - MSE: 2.134, Auto: 0.000, Soft_cons: 0.004\n",
      "  Condition 1: 0.0000000000\n",
      "Epoch 43, Time elapsed: 1:56:38.325138\n",
      "  Train - MSE: 2.078, Auto: 0.000, Soft_cons: 0.004\n",
      "  Valid - MSE: 2.326, Auto: 0.000, Soft_cons: 0.003\n",
      "  Condition 1: 0.0001154499\n",
      "Epoch 44, Time elapsed: 1:59:18.180014  ---- Model saved\n",
      "  Train - MSE: 2.078, Auto: 0.000, Soft_cons: 0.004\n",
      "  Valid - MSE: 2.131, Auto: 0.000, Soft_cons: 0.004\n",
      "  Condition 1: 0.0000000000\n",
      "Epoch 45, Time elapsed: 2:01:57.527024\n",
      "  Train - MSE: 2.081, Auto: 0.000, Soft_cons: 0.004\n",
      "  Valid - MSE: 2.139, Auto: 0.000, Soft_cons: 0.004\n",
      "  Condition 1: 0.0000000000\n",
      "Epoch 46, Time elapsed: 2:04:39.575187  ---- Model saved\n",
      "  Train - MSE: 2.078, Auto: 0.000, Soft_cons: 0.004\n",
      "  Valid - MSE: 2.130, Auto: 0.000, Soft_cons: 0.004\n",
      "  Condition 1: 0.0000000000\n",
      "Epoch 47, Time elapsed: 2:07:21.776034  ---- Model saved\n",
      "  Train - MSE: 2.081, Auto: 0.000, Soft_cons: 0.004\n",
      "  Valid - MSE: 2.125, Auto: 0.000, Soft_cons: 0.004\n",
      "  Condition 1: 0.0003152416\n",
      "Epoch 48, Time elapsed: 2:09:59.647091\n",
      "  Train - MSE: 2.070, Auto: 0.000, Soft_cons: 0.004\n",
      "  Valid - MSE: 2.167, Auto: 0.000, Soft_cons: 0.003\n",
      "  Condition 1: 0.0000000000\n",
      "Epoch 49, Time elapsed: 2:12:39.346616\n",
      "  Train - MSE: 2.073, Auto: 0.000, Soft_cons: 0.004\n",
      "  Valid - MSE: 2.195, Auto: 0.000, Soft_cons: 0.005\n",
      "  Condition 1: 0.0000000000\n",
      "Epoch 50, Time elapsed: 2:15:19.283609  ---- Model saved\n",
      "  Train - MSE: 2.072, Auto: 0.000, Soft_cons: 0.004\n",
      "  Valid - MSE: 2.124, Auto: 0.000, Soft_cons: 0.004\n",
      "  Condition 1: 0.0000216175\n",
      "---Finished training results---\n",
      "Time elapsed: 2:15:19.283716\n",
      "---Training end---\n",
      "--- Deep agent trained and stored in ../models/.. ---\n"
     ]
    },
    {
     "name": "stderr",
     "output_type": "stream",
     "text": [
      "INFO:tensorflow:Restoring parameters from Deep_agent_RNNFNN_noauto_dropout_50_MSE_TC_0.05_2.0_learned_reebalance_integral_HO_C63ATMpos1P63ATMpos1_softcons_1.ckpt\n"
     ]
    },
    {
     "name": "stdout",
     "output_type": "stream",
     "text": [
      "-------------------------------------------------------------\n",
      "Deep_agent_RNNFNN_noauto_dropout_50_MSE_TC_0.05_2.0_learned_reebalance_integral_HO_C63ATMpos1P63ATMpos1_softcons_1\n",
      "-------------------------------------------------------------\n",
      "---Inference start---\n",
      "---Inference end---\n",
      "--- Hedging startegy stored in ../results/Training/.. ---\n"
     ]
    }
   ],
   "source": [
    "from src.utils import *\n",
    "from src.models.deep_rl_training import rl_agent\n",
    "\n",
    "config_file = load_config(os.path.join(main_folder,'cfgs','config_agent.yml'))\n",
    "config_file_agent = config_file[\"agent\"]\n",
    "\n",
    "config_file = load_config(os.path.join(main_folder,'cfgs','config_simulation.yml'))\n",
    "config_file_simulation = config_file[\"simulation\"]\n",
    "\n",
    "hedging_strategy = rl_agent(config_file_simulation,config_file_agent)"
   ]
  }
 ],
 "metadata": {
  "kernelspec": {
   "display_name": "venv",
   "language": "python",
   "name": "python3"
  },
  "language_info": {
   "codemirror_mode": {
    "name": "ipython",
    "version": 3
   },
   "file_extension": ".py",
   "mimetype": "text/x-python",
   "name": "python",
   "nbconvert_exporter": "python",
   "pygments_lexer": "ipython3",
   "version": "3.9.6"
  },
  "orig_nbformat": 4
 },
 "nbformat": 4,
 "nbformat_minor": 2
}
