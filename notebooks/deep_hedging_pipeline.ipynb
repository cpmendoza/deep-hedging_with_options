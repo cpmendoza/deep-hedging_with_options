{
 "cells": [
  {
   "cell_type": "markdown",
   "metadata": {},
   "source": [
    "# Deep Hedging pipeline"
   ]
  },
  {
   "cell_type": "markdown",
   "metadata": {},
   "source": [
    "## Evironment setup"
   ]
  },
  {
   "cell_type": "markdown",
   "metadata": {},
   "source": [
    "Setup the general environment"
   ]
  },
  {
   "cell_type": "code",
   "execution_count": 1,
   "metadata": {},
   "outputs": [],
   "source": [
    "import os, sys\n",
    "from pathlib import Path\n",
    "\n",
    "main_folder = str(Path.cwd().parent)\n",
    "sys.path.append(main_folder)\n",
    "\n",
    "import warnings\n",
    "warnings.filterwarnings(\"ignore\")"
   ]
  },
  {
   "cell_type": "markdown",
   "metadata": {},
   "source": [
    "## Simulation of NIG random values"
   ]
  },
  {
   "cell_type": "markdown",
   "metadata": {},
   "source": [
    "Simulation of standard NIG random variables for the JIVR model"
   ]
  },
  {
   "cell_type": "code",
   "execution_count": 2,
   "metadata": {},
   "outputs": [
    {
     "name": "stdout",
     "output_type": "stream",
     "text": [
      "--Generating grid for NIG interpolation--\n",
      "--NIG simulation starts--\n",
      "--Progress of NIG simulation: 100.00%\n",
      "--Simulation completed - NIG values stored in ../data/interim/--\n"
     ]
    }
   ],
   "source": [
    "from src.utils import *\n",
    "from src.features.nig_simulation import *\n",
    "\n",
    "config_file = load_config(os.path.join(main_folder,'cfgs','config_simulation.yml'))\n",
    "nig_simulation(config_file)"
   ]
  },
  {
   "cell_type": "markdown",
   "metadata": {},
   "source": [
    "## JIVR Simulation"
   ]
  },
  {
   "cell_type": "markdown",
   "metadata": {},
   "source": [
    "Simulation of JIVR features\n",
    "\n",
    "**Remark**: This segment of the pipeline assumes that the NIG random variables have already been simulated."
   ]
  },
  {
   "cell_type": "code",
   "execution_count": 3,
   "metadata": {},
   "outputs": [
    {
     "name": "stdout",
     "output_type": "stream",
     "text": [
      "-- JIVR simulation starts --\n",
      "--Progress of JIVR simulation: 100.00%\n",
      "--Simulation of JIVR features completed--\n",
      "-- Simulation of stock price --\n",
      "-- Simulation completed - JIVR features stored in ../data/processed/--\n"
     ]
    }
   ],
   "source": [
    "from src.utils import *\n",
    "from src.features.jivr_simulation import *\n",
    "\n",
    "config_file = load_config(os.path.join(main_folder,'cfgs','config_simulation.yml'))\n",
    "jivr_model = implied_volatily_surface_vec(config_file)\n",
    "jivr_model.jivr_simulation()"
   ]
  },
  {
   "cell_type": "markdown",
   "metadata": {},
   "source": [
    "## Deep Hedging "
   ]
  },
  {
   "cell_type": "markdown",
   "metadata": {},
   "source": [
    "Deep RL agent training and hedging strategy generation\n",
    "\n",
    "**Remark 1**: This segment of the pipeline assumes that the JIVR features have already been simulated.\n",
    "\n",
    "**Remark 2**: This training example illustrates the performance of the RL agent optimized using the MSE loss, relying solely on the underlying asset as a hedging instrument in the presence of transaction costs. The corresponding results are reported in Table 4 of the paper.\n"
   ]
  },
  {
   "cell_type": "code",
   "execution_count": 3,
   "metadata": {},
   "outputs": [
    {
     "data": {
      "text/plain": [
       "1"
      ]
     },
     "execution_count": 3,
     "metadata": {},
     "output_type": "execute_result"
    }
   ],
   "source": [
    "1"
   ]
  },
  {
   "cell_type": "code",
   "execution_count": 4,
   "metadata": {},
   "outputs": [
    {
     "name": "stdout",
     "output_type": "stream",
     "text": [
      "-------- Portfolio simulation --------\n",
      "-------- Simulation completed --------\n",
      "-------------------------------------------------------------\n",
      "Deep_agent_RNNFNN_noauto_dropout_50_MSE_TC_0.05_2.0_learned_reebalance_integral_HO_C63ATMpos1P63ATMpos1_softcons_1\n",
      "-------------------------------------------------------------\n",
      "-----------------------Training start------------------------\n",
      "Epoch 1, Time elapsed: 0:03:13.993735  ---- Model saved\n",
      "  Train - MSE: 23.810, Auto: 0.000, Soft_cons: 0.099\n",
      "  Valid - MSE: 15.721, Auto: 0.000, Soft_cons: 0.069\n",
      "  Condition 1: 0.0000000000\n",
      "Epoch 2, Time elapsed: 0:06:45.861728  ---- Model saved\n",
      "  Train - MSE: 6.443, Auto: 0.000, Soft_cons: 0.019\n",
      "  Valid - MSE: 3.502, Auto: 0.000, Soft_cons: 0.005\n",
      "  Condition 1: 0.0000000000\n",
      "Epoch 3, Time elapsed: 0:09:33.496113  ---- Model saved\n",
      "  Train - MSE: 3.040, Auto: 0.000, Soft_cons: 0.005\n",
      "  Valid - MSE: 2.872, Auto: 0.000, Soft_cons: 0.005\n",
      "  Condition 1: 0.0000000000\n",
      "Epoch 4, Time elapsed: 0:12:21.075925  ---- Model saved\n",
      "  Train - MSE: 2.670, Auto: 0.000, Soft_cons: 0.004\n",
      "  Valid - MSE: 2.612, Auto: 0.000, Soft_cons: 0.005\n",
      "  Condition 1: 0.0000000000\n",
      "Epoch 5, Time elapsed: 0:15:07.235564  ---- Model saved\n",
      "  Train - MSE: 2.494, Auto: 0.000, Soft_cons: 0.004\n",
      "  Valid - MSE: 2.510, Auto: 0.000, Soft_cons: 0.003\n",
      "  Condition 1: 0.0000000000\n"
     ]
    }
   ],
   "source": [
    "from src.utils import *\n",
    "from src.models.deep_rl_training import rl_agent\n",
    "\n",
    "config_file = load_config(os.path.join(main_folder,'cfgs','config_agent.yml'))\n",
    "config_file_agent = config_file[\"agent\"]\n",
    "\n",
    "config_file = load_config(os.path.join(main_folder,'cfgs','config_simulation.yml'))\n",
    "config_file_simulation = config_file[\"simulation\"]\n",
    "\n",
    "hedging_strategy = rl_agent(config_file_simulation,config_file_agent)"
   ]
  }
 ],
 "metadata": {
  "kernelspec": {
   "display_name": "venv",
   "language": "python",
   "name": "python3"
  },
  "language_info": {
   "codemirror_mode": {
    "name": "ipython",
    "version": 3
   },
   "file_extension": ".py",
   "mimetype": "text/x-python",
   "name": "python",
   "nbconvert_exporter": "python",
   "pygments_lexer": "ipython3",
   "version": "3.9.6"
  },
  "orig_nbformat": 4
 },
 "nbformat": 4,
 "nbformat_minor": 2
}
