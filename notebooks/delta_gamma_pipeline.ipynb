{
 "cells": [
  {
   "cell_type": "markdown",
   "metadata": {},
   "source": [
    "# Delta-Gamma pipeline"
   ]
  },
  {
   "cell_type": "markdown",
   "metadata": {},
   "source": [
    "## Evironment setup"
   ]
  },
  {
   "cell_type": "markdown",
   "metadata": {},
   "source": [
    "Setup the general environment"
   ]
  },
  {
   "cell_type": "code",
   "execution_count": 1,
   "metadata": {},
   "outputs": [],
   "source": [
    "import os, sys\n",
    "from pathlib import Path\n",
    "\n",
    "main_folder = str(Path.cwd().parent)\n",
    "sys.path.append(main_folder)\n",
    "\n",
    "import warnings\n",
    "warnings.filterwarnings(\"ignore\")"
   ]
  },
  {
   "cell_type": "markdown",
   "metadata": {},
   "source": [
    "## Simulation of NIG random values"
   ]
  },
  {
   "cell_type": "markdown",
   "metadata": {},
   "source": [
    "Simulation of standard NIG random variables for the JIVR model"
   ]
  },
  {
   "cell_type": "code",
   "execution_count": 2,
   "metadata": {},
   "outputs": [
    {
     "name": "stdout",
     "output_type": "stream",
     "text": [
      "--Generating grid for NIG interpolation--\n",
      "--NIG simulation starts--\n",
      "--Progress of NIG simulation: 100.00%\n",
      "--Simulation completed - NIG values stored in ../data/interim/--\n"
     ]
    }
   ],
   "source": [
    "from src.utils import *\n",
    "from src.features.nig_simulation import *\n",
    "\n",
    "config_file = load_config(os.path.join(main_folder,'cfgs','config_simulation.yml'))\n",
    "nig_simulation(config_file)"
   ]
  },
  {
   "cell_type": "markdown",
   "metadata": {},
   "source": [
    "## JIVR Simulation"
   ]
  },
  {
   "cell_type": "markdown",
   "metadata": {},
   "source": [
    "Simulation of JIVR features\n",
    "\n",
    "**Remark**: This segment of the pipeline assumes that the NIG random variables have already been simulated."
   ]
  },
  {
   "cell_type": "code",
   "execution_count": 3,
   "metadata": {},
   "outputs": [
    {
     "name": "stdout",
     "output_type": "stream",
     "text": [
      "-- JIVR simulation starts --\n",
      "--Progress of JIVR simulation: 100.00%\n",
      "--Simulation of JIVR features completed--\n",
      "-- Simulation of stock price --\n",
      "-- Simulation completed - JIVR features stored in ../data/processed/--\n"
     ]
    }
   ],
   "source": [
    "from src.utils import *\n",
    "from src.features.jivr_simulation import *\n",
    "\n",
    "config_file = load_config(os.path.join(main_folder,'cfgs','config_simulation.yml'))\n",
    "jivr_model = implied_volatily_surface_vec(config_file)\n",
    "jivr_model.jivr_simulation()"
   ]
  },
  {
   "cell_type": "markdown",
   "metadata": {},
   "source": [
    "## Delta-Gamma optimizer"
   ]
  },
  {
   "cell_type": "markdown",
   "metadata": {},
   "source": [
    "Optimizing the rebalancing threshold for the delta-gamma no-trade region\n",
    "\n",
    "**Remark 1**: This segment of the pipeline assumes that the JIVR features have already been simulated.\n",
    "\n",
    "**Remark 2**: This training example illustrates the performance of the delta-gamma strategy optimized using the no-trade region under the CVaR loss, relying two a hedging instrument, the underlying asset and a call option, in the presence of transaction costs $\\kappa_{1}=0.05\\%$ and $\\kappa_{2}=2\\%$. The corresponding results are reported in Table 4 of the paper.\n",
    "\n"
   ]
  },
  {
   "cell_type": "code",
   "execution_count": 4,
   "metadata": {},
   "outputs": [
    {
     "name": "stdout",
     "output_type": "stream",
     "text": [
      "-------- Portfolio simulation --------\n",
      "-------- Simulation completed --------\n",
      "-------------------------------------------------------------\n",
      "Optimizer_delta_gamma_RNNFNN_noauto_dropout_50_CVaR_95_TC_0.05_2.0_learned_reebalance_integral_HO_C63ATMpos1P63ATMpos1_HIstatic_C84ATM_softcons_1\n",
      "-------------------------------------------------------------\n",
      "-----------------------Training start------------------------\n",
      "Epoch 1, Time elapsed: 0:00:18.753370  ---- Model saved\n",
      "  Train - CVaR: 2.435, Auto: 0.000, Soft_cons: 0.000\n",
      "  Valid - CVaR: 2.430, Auto: 0.000, Soft_cons: 0.000\n",
      "  Condition 1: 2.7098674774\n",
      "Epoch 2, Time elapsed: 0:00:33.256236  ---- Model saved\n",
      "  Train - CVaR: 2.435, Auto: 0.000, Soft_cons: 0.000\n",
      "  Valid - CVaR: 2.429, Auto: 0.000, Soft_cons: 0.000\n",
      "  Condition 1: 2.7043254375\n",
      "Epoch 3, Time elapsed: 0:00:47.757184  ---- Model saved\n",
      "  Train - CVaR: 2.436, Auto: 0.000, Soft_cons: 0.000\n",
      "  Valid - CVaR: 2.429, Auto: 0.000, Soft_cons: 0.000\n",
      "  Condition 1: 2.7381684780\n",
      "Epoch 4, Time elapsed: 0:01:02.403275\n",
      "  Train - CVaR: 2.435, Auto: 0.000, Soft_cons: 0.000\n",
      "  Valid - CVaR: 2.429, Auto: 0.000, Soft_cons: 0.000\n",
      "  Condition 1: 2.7404136658\n",
      "Epoch 5, Time elapsed: 0:01:16.492729\n",
      "  Train - CVaR: 2.435, Auto: 0.000, Soft_cons: 0.000\n",
      "  Valid - CVaR: 2.429, Auto: 0.000, Soft_cons: 0.000\n",
      "  Condition 1: 2.7403175831\n",
      "Epoch 6, Time elapsed: 0:01:31.466246\n",
      "  Train - CVaR: 2.435, Auto: 0.000, Soft_cons: 0.000\n",
      "  Valid - CVaR: 2.429, Auto: 0.000, Soft_cons: 0.000\n",
      "  Condition 1: 2.7412989140\n",
      "Epoch 7, Time elapsed: 0:01:45.670499\n",
      "  Train - CVaR: 2.435, Auto: 0.000, Soft_cons: 0.000\n",
      "  Valid - CVaR: 2.429, Auto: 0.000, Soft_cons: 0.000\n",
      "  Condition 1: 2.7412161827\n",
      "Epoch 8, Time elapsed: 0:02:00.162041\n",
      "  Train - CVaR: 2.435, Auto: 0.000, Soft_cons: 0.000\n",
      "  Valid - CVaR: 2.429, Auto: 0.000, Soft_cons: 0.000\n",
      "  Condition 1: 2.7254755497\n",
      "Epoch 9, Time elapsed: 0:02:14.718268\n",
      "  Train - CVaR: 2.436, Auto: 0.000, Soft_cons: 0.000\n",
      "  Valid - CVaR: 2.429, Auto: 0.000, Soft_cons: 0.000\n",
      "  Condition 1: 2.7308306694\n",
      "Epoch 10, Time elapsed: 0:02:30.427253  ---- Model saved\n",
      "  Train - CVaR: 2.435, Auto: 0.000, Soft_cons: 0.000\n",
      "  Valid - CVaR: 2.428, Auto: 0.000, Soft_cons: 0.000\n",
      "  Condition 1: 2.7362883091\n",
      "---Finished training results---\n",
      "Time elapsed: 0:02:30.427375\n",
      "---Training end---\n",
      "--- Delta-gamma no-trade region trained and stored in ../models/.. ---\n"
     ]
    },
    {
     "name": "stderr",
     "output_type": "stream",
     "text": [
      "INFO:tensorflow:Restoring parameters from Optimizer_delta_gamma_RNNFNN_noauto_dropout_50_CVaR_95_TC_0.05_2.0_learned_reebalance_integral_HO_C63ATMpos1P63ATMpos1_HIstatic_C84ATM_softcons_1.ckpt\n"
     ]
    },
    {
     "name": "stdout",
     "output_type": "stream",
     "text": [
      "-------------------------------------------------------------\n",
      "Optimizer_delta_gamma_RNNFNN_noauto_dropout_50_CVaR_95_TC_0.05_2.0_learned_reebalance_integral_HO_C63ATMpos1P63ATMpos1_HIstatic_C84ATM_softcons_1\n",
      "-------------------------------------------------------------\n",
      "---Inference start---\n",
      "---Inference end---\n",
      "--- Delta-gamma hedging startegy stored in ../results/Training/.. ---\n"
     ]
    }
   ],
   "source": [
    "from src.utils import *\n",
    "from src.models.deltagamma_optimizer import deltagamma_agent\n",
    "\n",
    "config_file = load_config(os.path.join(main_folder,'cfgs','config_delta_gamma.yml'))\n",
    "config_file_agent = config_file[\"agent\"]\n",
    "\n",
    "config_file = load_config(os.path.join(main_folder,'cfgs','config_simulation.yml'))\n",
    "config_file_simulation = config_file[\"simulation\"]\n",
    "\n",
    "hedging_strategy = deltagamma_agent(config_file_simulation,config_file_agent)"
   ]
  }
 ],
 "metadata": {
  "kernelspec": {
   "display_name": "venv",
   "language": "python",
   "name": "python3"
  },
  "language_info": {
   "codemirror_mode": {
    "name": "ipython",
    "version": 3
   },
   "file_extension": ".py",
   "mimetype": "text/x-python",
   "name": "python",
   "nbconvert_exporter": "python",
   "pygments_lexer": "ipython3",
   "version": "3.9.6"
  },
  "orig_nbformat": 4
 },
 "nbformat": 4,
 "nbformat_minor": 2
}
